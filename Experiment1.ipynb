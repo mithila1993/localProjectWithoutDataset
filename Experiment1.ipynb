{
 "cells": [
  {
   "cell_type": "code",
   "execution_count": 1,
   "metadata": {},
   "outputs": [],
   "source": [
    "%run Experiment-other.ipynb"
   ]
  },
  {
   "cell_type": "code",
   "execution_count": 55,
   "metadata": {},
   "outputs": [],
   "source": [
    "punctuation = list(string.punctuation)\n",
    "unnecssary = ['The','tourism','I','rt', 'via','...','â','click']\n",
    "unnecssary_hash = ['#','#tourism']\n",
    "ascii_words = ['\\x92','\\x96']\n",
    "years = ['2018','2017','2016','2015','2014','2013']\n",
    "numbers = ['nine']\n",
    "stop = stopwords.words('english') + punctuation + unnecssary + ascii_words + years + unnecssary_hash + numbers\n",
    "\n",
    "count_all = []\n",
    "popular_common_words = []\n",
    "i=0\n",
    "sets=100\n",
    "\n",
    "\n",
    "for x in range(sets):\n",
    "    count_all.append(Counter())\n",
    "\n",
    "\n",
    "# count_hash = Counter()\n",
    "# count_bigram = Counter()\n",
    "# count_trigram = Counter()\n",
    "for y in range(sets):\n",
    "    for x in range(1, 3000):\n",
    "        value = df.loc[i, \"Text\"]\n",
    "\n",
    "        terms_all = [term for term in preprocess_fornothash(value) if term not in stop]\n",
    "    \n",
    "#     terms_bigram = bigrams(terms_all)\n",
    "    \n",
    "#     terms_trigram = ngrams(terms_all, 3)\n",
    "\n",
    "    #terms_single = set(terms_all)\n",
    "\n",
    "#     terms_hash = [term for term in preprocess_forhash(value)\n",
    "#                   if term.startswith('#') if term not in stop]\n",
    "    \n",
    "        \n",
    "        i = i + 1\n",
    "        count_all[y].update(terms_all)\n",
    "#     count_hash.update(terms_hash)  \n",
    "#     count_bigram.update(terms_bigram)\n",
    "#     count_trigram.update(terms_trigram)\n",
    "    \n",
    "    popular_common_words.append(count_all[y].most_common(10))\n",
    "    #print(popular_common_words[y])\n",
    "    #print(\"Hello - \",y)\n",
    "\n",
    "    "
   ]
  },
  {
   "cell_type": "markdown",
   "metadata": {},
   "source": [
    "#Getting Sets which word apperance "
   ]
  },
  {
   "cell_type": "code",
   "execution_count": 56,
   "metadata": {},
   "outputs": [
    {
     "name": "stdout",
     "output_type": "stream",
     "text": [
      "[['travel', 100], ['amp', 91], ['new', 90], ['news', 69], ['industry', 52], ['business', 28], ['world', 26], ['great', 26], ['2', 16], ['trip', 15], ['year', 13], ['free', 10], ['egypt', 9], ['medical', 8], ['india', 8], ['international', 7], ['photo', 6], ['thailand', 6], ['city', 6], ['boost', 6], ['trade', 5], ['minister', 5], ['africa', 5], ['miss', 5], ['tourist', 5], ['like', 4], ['day', 4], ['space', 4], ['4', 4], ['week', 4], ['us', 4], ['itb', 3], ['marketing', 3], ['conference', 3], ['best', 3], ['hope', 3], ['ad', 3], ['star', 3], ['crimea', 3], ['destroying', 3], ['14', 3], ['sandy', 3], ['berlin', 3], ['colorado', 3], ['technology', 3], ['malaysia', 3], ['gt', 3], ['south', 3], ['services', 3], ['photography', 2], ['n', 2], ['award', 2], ['one', 2], ['good', 2], ['vat', 2], ['asia', 2], ['record', 2], ['angono', 2], ['funds', 2], ['australia', 2], ['adidas', 2], ['brazil', 2], ['hadfield', 2], ['national', 2], ['nigeria', 2], ['christie', 2], ['140208', 2], ['goes', 2], ['b', 2], ['visitors', 2], ['says', 2], ['51', 2], ['ads', 2], ['global', 2], ['local', 2], ['hanjin', 2], ['awards', 2], ['meet', 2], ['wisconsin', 2], ['destination', 2], ['morocco', 2], ['13', 2], ['irish', 2], ['chris', 2], ['hospitality', 2], ['photos', 2], ['thanks', 2], ['hopes', 2], ['twitter', 2], ['astronaut', 2], ['sona', 1], ['airplane', 1], ['tour', 1], ['sets', 1], ['top', 1], ['april', 1], ['sa', 1], ['vote', 1], ['emerges', 1], ['visit', 1], ['endsharkcull', 1], ['ray', 1], ['beauty', 1], ['hit', 1], ['canned', 1], ['bad', 1], ['wearable', 1], ['protests', 1], ['\\x80', 1], ['bank', 1], ['public', 1], ['naked', 1], ['australian', 1], ['barnett', 1], ['things', 1], ['©', 1], ['mayor', 1], ['dumping', 1], ['mine', 1], ['\\x93', 1], ['shot', 1], ['pot', 1], ['say', 1], ['comes', 1], ['bb', 1], [\"thailand's\", 1], ['board', 1], ['cultural', 1], ['firms', 1], ['russia', 1], ['studio', 1], ['soccer', 1], ['cash', 1], ['tni', 1], ['wreaks', 1], ['another', 1], ['napa', 1], ['hunting', 1], ['chicago', 1], ['worries', 1], ['sharks', 1], [\"king's\", 1], ['town', 1], ['releases', 1], ['reunite', 1], ['smp', 1], ['hot', 1], ['lionsdeservepride', 1], ['fund', 1], ['5', 1], ['breaking', 1], ['state', 1], ['flight', 1], ['grow', 1], ['project', 1], ['operators', 1], ['coolest', 1], ['attacks', 1], ['lifting', 1], ['campaign', 1], ['indonesia', 1], ['portugal', 1], ['smtravel', 1], ['would', 1], ['swtawards', 1], ['hurt', 1], ['ambassador', 1], ['finalists', 1], ['please', 1], ['pope', 1], ['lionswaitingtodie', 1], ['travelkatha', 1], ['@ottawa_tourism', 1], ['@hanjin', 1], ['downturn', 1], ['promote', 1], ['slogan', 1], ['rise', 1], ['ditches', 1], ['lemurs', 1], ['english', 1], ['£', 1], ['talks', 1], ['chinese', 1], ['threatened', 1], ['manta', 1], ['executions', 1], ['alongside', 1], ['tours', 1], ['businesses', 1], ['8', 1], ['country', 1], [\"disney's\", 1], ['happens', 1], ['hold', 1], ['powede', 1], ['supranational', 1], ['way', 1], ['@uberfacts', 1], ['raises', 1], ['york', 1], ['sees', 1], ['nj', 1], ['probe', 1], ['website', 1], ['cup', 1], ['flood-hit', 1], ['havoc', 1], ['dry', 1], ['model', 1], ['crime', 1], ['qatar', 1], ['growth', 1], ['tunisia', 1], ['sinai', 1], ['10', 1], ['tiamson', 1], ['barrier', 1], ['goads', 1], ['tech', 1], ['romania', 1], ['knees', 1], ['marijuana', 1], ['igwegbe', 1], ['much', 1], ['madonna', 1], ['documentary', 1], ['could', 1], ['chicagoans', 1], [\"detroit's\", 1], ['clever', 1], ['next', 1], ['maheshwar', 1], ['clásico', 1], ['1', 1], ['mohanty', 1], ['vatican', 1], ['government', 1], ['missing', 1], ['president', 1], ['preview', 1], ['taiji', 1], ['work', 1], ['nigera', 1], ['art', 1], ['see', 1], ['enjoy', 1], ['trend', 1], ['fanmeet', 1], ['dollars', 1], ['development', 1], ['ireland', 1], ['qata', 1], ['kenyan', 1], ['storm-hit', 1], ['north', 1], ['dubai', 1], ['intercontinental', 1], ['trails', 1], ['p', 1], ['cr', 1], ['mr', 1], ['japan', 1], ['seeks', 1], ['lawrence', 1], ['economy', 1], ['robot', 1], ['odisha', 1], ['light', 1], ['comcast', 1], ['@odisha_tourism', 1], ['got', 1], ['becomes', 1], ['gringo', 1], ['\\x94', 1], ['two', 1], ['frigid', 1], ['believe', 1], ['first', 1], ['mbgn', 1], ['big', 1], ['crisis', 1], ['@photokatha', 1], ['empire', 1], ['takes', 1], ['blue', 1], ['continuing', 1], ['reef', 1], ['cikal', 1], ['iran', 1], ['3', 1], ['worth', 1], ['colin', 1], ['event', 1], ['culture', 1], ['0060166881924', 1], ['challenging', 1], ['sector', 1], ['african', 1], ['brand', 1], ['draw', 1], ['support', 1], ['feds', 1], ['talent', 1], ['despite', 1], ['tradition', 1], ['places', 1], ['hotel', 1], ['look', 1], ['jennifer', 1], ['universe', 1], ['sustainable', 1], ['bombing', 1]]\n"
     ]
    }
   ],
   "source": [
    "lst =[]\n",
    "for x in popular_common_words:\n",
    "    y = numpy.array(x)[:,0]\n",
    "    for z in y:\n",
    "        lst.append(z)\n",
    "y = [ [l, lst.count(l)] for l in set(lst)]\n",
    "\n",
    "sorted_list = sorted(y, key=lambda x:x[1], reverse=True)\n",
    "print(sorted_list)"
   ]
  },
  {
   "cell_type": "code",
   "execution_count": 22,
   "metadata": {},
   "outputs": [
    {
     "name": "stdout",
     "output_type": "stream",
     "text": [
      "1\n",
      "2\n",
      "3\n",
      "[['abc', 1], ['bcd', 2], ['cde', 3]]\n",
      "[1, 2, 3]\n",
      "1\n"
     ]
    }
   ],
   "source": []
  },
  {
   "cell_type": "code",
   "execution_count": 37,
   "metadata": {},
   "outputs": [
    {
     "name": "stdout",
     "output_type": "stream",
     "text": [
      "None\n",
      "['abc', 'bcd', 'cde', 'cdee']\n"
     ]
    }
   ],
   "source": [
    "trendingArray = [\"abc\",\"bcd\",\"cde\"]\n",
    "\n",
    "def processTrendingArray(str):\n",
    "    global trendingArray\n",
    "    b = [i for i,x in enumerate(trendingArray) if x == str]\n",
    "    if(b == []):\n",
    "        trendingArray.append(str)\n",
    "    else:\n",
    "        return b[0]\n",
    "\n",
    "print(processTrendingArray(\"cdee\"))\n",
    "print(trendingArray)"
   ]
  },
  {
   "cell_type": "code",
   "execution_count": 15,
   "metadata": {},
   "outputs": [
    {
     "name": "stdout",
     "output_type": "stream",
     "text": [
      "common words\n",
      "('colorado', 351)\n",
      "('pot', 323)\n",
      "('light', 271)\n",
      "('travel', 268)\n",
      "('like', 239)\n",
      "('napa', 212)\n",
      "('miss', 193)\n",
      "('ready', 181)\n",
      "('valley', 179)\n",
      "('wine', 176)\n"
     ]
    }
   ],
   "source": [
    "\n",
    "# popular_hash_words = count_hash.most_common(10)\n",
    "# popular_bigrams_words = count_bigram.most_common(10)\n",
    "# popular_trigrams_words = count_trigram.most_common(10)\n",
    "\n",
    "print(\"common words\")\n",
    "for x in popular_common_words:\n",
    "    print(x)\n",
    "    \n",
    "# print(\"\\nhash words\")\n",
    "# for x in popular_hash_words:\n",
    "#     print(x)\n",
    "    \n",
    "# print(\"\\nbigrams words\")\n",
    "# for x in popular_bigrams_words:\n",
    "#     print(x)\n",
    "    \n",
    "# print(\"\\ntrigrams words\")\n",
    "# for x in popular_trigrams_words:\n",
    "#     print(x)"
   ]
  },
  {
   "cell_type": "code",
   "execution_count": null,
   "metadata": {},
   "outputs": [],
   "source": []
  }
 ],
 "metadata": {
  "kernelspec": {
   "display_name": "Python 3",
   "language": "python",
   "name": "python3"
  },
  "language_info": {
   "codemirror_mode": {
    "name": "ipython",
    "version": 3
   },
   "file_extension": ".py",
   "mimetype": "text/x-python",
   "name": "python",
   "nbconvert_exporter": "python",
   "pygments_lexer": "ipython3",
   "version": "3.7.3"
  }
 },
 "nbformat": 4,
 "nbformat_minor": 2
}
