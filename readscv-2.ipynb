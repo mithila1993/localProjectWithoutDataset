{
 "cells": [
  {
   "cell_type": "code",
   "execution_count": 3,
   "metadata": {},
   "outputs": [],
   "source": [
    "import csv\n",
    "from langdetect import detect\n",
    "import datetime"
   ]
  },
  {
   "cell_type": "code",
   "execution_count": 4,
   "metadata": {},
   "outputs": [],
   "source": [
    "dataset = []\n",
    "counter = 0\n",
    "previousText = ''"
   ]
  },
  {
   "cell_type": "code",
   "execution_count": 5,
   "metadata": {},
   "outputs": [],
   "source": [
    "def preProcess(start):\n",
    "    global counter, previousText, dataset\n",
    "    with open('dataset/process/2014-'+start+'.csv','r',encoding='Latin1')as f:\n",
    "      print(\"hello\",start)\n",
    "      data = csv.reader(f)\n",
    "      for row in data:\n",
    "        detectNumber = 0\n",
    "        scientificToNumber = \"a\"\n",
    "        stringExcel = str(row[1])\n",
    "        #idExcel = str(row[2])\n",
    "        #idExcel = int(row[2])\n",
    "#         if(idExcel.isdigit()):\n",
    "#             print(\"Hello - \",idExcel)\n",
    "        try:\n",
    "            scientificToNumber = int(float(row[2]))\n",
    "            numberToString = str(scientificToNumber)\n",
    "        except:\n",
    "            pass\n",
    "        try:\n",
    "            detectLanguage = detect(stringExcel)\n",
    "        except:\n",
    "            pass\n",
    "        if(detectLanguage == 'en' and previousText != stringExcel and len(stringExcel.split()) > 4 and scientificToNumber != \"a\"):\n",
    "            dataset.append([])\n",
    "            dataset[counter].append(row[0])\n",
    "            dataset[counter].append(row[1])\n",
    "            dataset[counter].append(row[2])\n",
    "            counter += 1\n",
    "            previousText = stringExcel\n",
    "        if(counter % 10000 == 0):\n",
    "            datestring = str(datetime.datetime.now().time())\n",
    "            print(datestring ,' - f  ',counter)"
   ]
  },
  {
   "cell_type": "code",
   "execution_count": 6,
   "metadata": {},
   "outputs": [
    {
     "name": "stdout",
     "output_type": "stream",
     "text": [
      "hello 2\n",
      "04:26:53.260678  - f   10000\n",
      "04:30:26.184767  - f   20000\n",
      "04:33:58.373315  - f   30000\n",
      "04:37:47.469317  - f   40000\n",
      "04:41:24.503841  - f   50000\n",
      "04:44:59.534283  - f   60000\n",
      "04:47:42.200256  - f   70000\n",
      "04:50:11.689147  - f   80000\n",
      "04:52:49.893862  - f   90000\n",
      "04:55:20.620887  - f   100000\n",
      "04:57:56.666195  - f   110000\n",
      "05:00:19.171160  - f   120000\n",
      "05:03:15.298437  - f   130000\n",
      "05:06:52.361768  - f   140000\n",
      "05:11:24.505935  - f   150000\n",
      "05:15:14.793683  - f   160000\n",
      "05:15:14.815742  - f   160000\n",
      "05:15:14.823763  - f   160000\n",
      "05:18:37.557918  - f   170000\n",
      "05:21:49.962309  - f   180000\n",
      "05:25:15.528604  - f   190000\n",
      "05:28:51.037603  - f   200000\n",
      "05:32:16.153758  - f   210000\n",
      "05:35:42.588738  - f   220000\n",
      "05:38:49.383029  - f   230000\n",
      "05:42:27.966794  - f   240000\n",
      "05:45:55.270858  - f   250000\n",
      "05:49:24.491329  - f   260000\n",
      "05:53:01.872099  - f   270000\n",
      "05:56:24.159877  - f   280000\n",
      "05:59:44.294458  - f   290000\n",
      "06:03:00.024051  - f   300000\n",
      "06:06:21.751182  - f   310000\n",
      "06:09:48.739215  - f   320000\n",
      "06:13:26.088134  - f   330000\n",
      "06:13:26.104312  - f   330000\n",
      "06:16:39.020082  - f   340000\n",
      "06:20:03.894317  - f   350000\n",
      "06:23:20.211012  - f   360000\n",
      "06:26:54.211761  - f   370000\n",
      "06:26:54.248859  - f   370000\n",
      "06:30:20.428199  - f   380000\n",
      "06:33:48.963138  - f   390000\n",
      "06:37:13.450380  - f   400000\n",
      "06:40:55.504510  - f   410000\n",
      "06:44:13.791031  - f   420000\n",
      "06:47:52.019131  - f   430000\n",
      "06:51:45.989499  - f   440000\n",
      "06:54:57.407100  - f   450000\n",
      "06:58:42.950683  - f   460000\n",
      "07:02:31.341372  - f   470000\n",
      "07:07:07.188347  - f   480000\n",
      "07:10:27.786526  - f   490000\n",
      "07:13:29.448086  - f   500000\n",
      "10:31:20.984712  - f   510000\n",
      "10:34:26.211513  - f   520000\n",
      "10:37:40.340445  - f   530000\n",
      "10:37:40.424626  - f   530000\n",
      "10:40:42.607451  - f   540000\n",
      "10:43:44.873686  - f   550000\n",
      "10:46:54.735462  - f   560000\n",
      "10:50:15.785924  - f   570000\n",
      "10:53:37.434284  - f   580000\n",
      "10:56:41.992027  - f   590000\n",
      "10:59:43.812163  - f   600000\n",
      "11:03:01.063552  - f   610000\n",
      "11:06:13.511224  - f   620000\n",
      "11:09:25.367046  - f   630000\n",
      "11:12:30.943085  - f   640000\n",
      "11:15:11.494971  - f   650000\n",
      "11:18:53.523539  - f   660000\n",
      "11:21:49.966169  - f   670000\n",
      "11:25:15.265642  - f   680000\n",
      "Finish\n"
     ]
    }
   ],
   "source": [
    "preProcess(\"2\")\n",
    "print(\"Finish\")"
   ]
  },
  {
   "cell_type": "code",
   "execution_count": 7,
   "metadata": {},
   "outputs": [],
   "source": [
    "with open('dataset/process/csv-test/2014-2-preprocess.csv', 'w',encoding=\"utf-8\",newline='') as file:\n",
    "    writer = csv.writer(file, delimiter=',', quotechar='\"', quoting=csv.QUOTE_MINIMAL)\n",
    "    for row in dataset:\n",
    "        writer.writerow([row[0], row[1], row[2]])     "
   ]
  },
  {
   "cell_type": "code",
   "execution_count": null,
   "metadata": {},
   "outputs": [],
   "source": []
  }
 ],
 "metadata": {
  "kernelspec": {
   "display_name": "Python 3",
   "language": "python",
   "name": "python3"
  },
  "language_info": {
   "codemirror_mode": {
    "name": "ipython",
    "version": 3
   },
   "file_extension": ".py",
   "mimetype": "text/x-python",
   "name": "python",
   "nbconvert_exporter": "python",
   "pygments_lexer": "ipython3",
   "version": "3.7.3"
  }
 },
 "nbformat": 4,
 "nbformat_minor": 2
}
