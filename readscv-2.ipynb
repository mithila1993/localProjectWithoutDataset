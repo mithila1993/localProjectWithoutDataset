{
 "cells": [
  {
   "cell_type": "code",
   "execution_count": 11,
   "metadata": {},
   "outputs": [],
   "source": [
    "import csv\n",
    "from langdetect import detect\n",
    "import datetime"
   ]
  },
  {
   "cell_type": "code",
   "execution_count": 12,
   "metadata": {},
   "outputs": [],
   "source": [
    "dataset = []\n",
    "counter = 0\n",
    "previousText = ''"
   ]
  },
  {
   "cell_type": "code",
   "execution_count": 13,
   "metadata": {},
   "outputs": [],
   "source": [
    "def preProcess(start):\n",
    "    global counter, previousText, dataset\n",
    "    with open('dataset/process/2017-'+start+'.csv','r',encoding='Latin1')as f:\n",
    "      print(\"hello\",start)\n",
    "      data = csv.reader(f)\n",
    "      for row in data:\n",
    "        detectNumber = 0\n",
    "        scientificToNumber = \"a\"\n",
    "        #idExcel = str(row[2])\n",
    "        #idExcel = int(row[2])\n",
    "#         if(idExcel.isdigit()):\n",
    "#             print(\"Hello - \",idExcel)\n",
    "#         try:\n",
    "            #scientificToNumber = int(float(row[2]))\n",
    "#             numberToString = str(scientificToNumber)\n",
    "#         except:\n",
    "#             pass\n",
    "        try:\n",
    "            stringExcel = str(row[1])\n",
    "            detectLanguage = detect(stringExcel)\n",
    "        except:\n",
    "            pass\n",
    "        if(detectLanguage == 'en' and previousText != stringExcel and len(stringExcel.split()) > 4):\n",
    "            dataset.append([])\n",
    "            dataset[counter].append(row[0])\n",
    "            dataset[counter].append(row[1])\n",
    "            #dataset[counter].append(row[2])\n",
    "            counter += 1\n",
    "            previousText = stringExcel\n",
    "        if(counter % 10000 == 0):\n",
    "            datestring = str(datetime.datetime.now().time())\n",
    "            print(datestring ,' - f  ',counter)"
   ]
  },
  {
   "cell_type": "code",
   "execution_count": 14,
   "metadata": {},
   "outputs": [
    {
     "name": "stdout",
     "output_type": "stream",
     "text": [
      "hello 1\n",
      "14:36:15.373043  - f   10000\n",
      "14:36:15.388086  - f   10000\n",
      "14:39:11.256128  - f   20000\n",
      "14:42:27.911450  - f   30000\n",
      "14:42:27.942743  - f   30000\n",
      "Finish\n"
     ]
    }
   ],
   "source": [
    "preProcess(\"1\")\n",
    "print(\"Finish\")"
   ]
  },
  {
   "cell_type": "code",
   "execution_count": 15,
   "metadata": {},
   "outputs": [],
   "source": [
    "with open('dataset/process/csv-test/2017-1-preprocess.csv', 'w',encoding=\"utf-8\",newline='') as file:\n",
    "    writer = csv.writer(file, delimiter=',', quotechar='\"', quoting=csv.QUOTE_MINIMAL)\n",
    "    for row in dataset:\n",
    "        writer.writerow([row[0], row[1]])     "
   ]
  },
  {
   "cell_type": "code",
   "execution_count": null,
   "metadata": {},
   "outputs": [],
   "source": [
    " "
   ]
  }
 ],
 "metadata": {
  "kernelspec": {
   "display_name": "Python 3",
   "language": "python",
   "name": "python3"
  },
  "language_info": {
   "codemirror_mode": {
    "name": "ipython",
    "version": 3
   },
   "file_extension": ".py",
   "mimetype": "text/x-python",
   "name": "python",
   "nbconvert_exporter": "python",
   "pygments_lexer": "ipython3",
   "version": "3.7.3"
  }
 },
 "nbformat": 4,
 "nbformat_minor": 2
}
