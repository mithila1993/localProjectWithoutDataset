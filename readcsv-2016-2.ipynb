{
 "cells": [
  {
   "cell_type": "code",
   "execution_count": 1,
   "metadata": {},
   "outputs": [],
   "source": [
    "import csv\n",
    "from langdetect import detect\n",
    "import datetime"
   ]
  },
  {
   "cell_type": "code",
   "execution_count": 2,
   "metadata": {},
   "outputs": [],
   "source": [
    "dataset = []\n",
    "counter = 0\n",
    "previousText = ''"
   ]
  },
  {
   "cell_type": "code",
   "execution_count": 3,
   "metadata": {},
   "outputs": [],
   "source": [
    "def preProcess(start):\n",
    "    global counter, previousText, dataset\n",
    "    with open('dataset/process/2016-'+start+'.csv','r',encoding='Latin1')as f:\n",
    "      print(\"hello\",start)\n",
    "      data = csv.reader(f)\n",
    "      for row in data:\n",
    "        detectNumber = 0\n",
    "        scientificToNumber = \"a\"\n",
    "        stringExcel = str(row[1])\n",
    "        #idExcel = str(row[2])\n",
    "        #idExcel = int(row[2])\n",
    "#         if(idExcel.isdigit()):\n",
    "#             print(\"Hello - \",idExcel)\n",
    "        try:\n",
    "            #scientificToNumber = int(float(row[2]))\n",
    "            numberToString = str(scientificToNumber)\n",
    "        except:\n",
    "            pass\n",
    "        try:\n",
    "            detectLanguage = detect(stringExcel)\n",
    "        except:\n",
    "            pass\n",
    "        if(detectLanguage == 'en' and previousText != stringExcel and len(stringExcel.split()) > 4):\n",
    "            dataset.append([])\n",
    "            dataset[counter].append(row[0])\n",
    "            dataset[counter].append(row[1])\n",
    "            #dataset[counter].append(row[2])\n",
    "            counter += 1\n",
    "            previousText = stringExcel\n",
    "        if(counter % 10000 == 0):\n",
    "            datestring = str(datetime.datetime.now().time())\n",
    "            print(datestring ,' - f  ',counter)"
   ]
  },
  {
   "cell_type": "code",
   "execution_count": 4,
   "metadata": {},
   "outputs": [
    {
     "name": "stdout",
     "output_type": "stream",
     "text": [
      "hello 2\n",
      "19:46:18.570143  - f   10000\n",
      "19:50:02.965198  - f   20000\n",
      "19:50:02.972731  - f   20000\n",
      "19:53:54.248599  - f   30000\n",
      "19:57:55.453582  - f   40000\n",
      "20:01:07.492943  - f   50000\n",
      "20:04:00.640559  - f   60000\n",
      "20:07:26.089012  - f   70000\n",
      "20:12:23.036124  - f   80000\n",
      "20:17:12.662859  - f   90000\n",
      "20:21:43.699282  - f   100000\n",
      "20:21:43.714824  - f   100000\n",
      "20:26:19.479241  - f   110000\n",
      "20:31:05.018580  - f   120000\n",
      "20:35:15.224480  - f   130000\n",
      "20:35:15.337280  - f   130000\n",
      "20:38:43.384279  - f   140000\n",
      "20:42:13.254613  - f   150000\n",
      "20:45:54.042174  - f   160000\n",
      "20:49:29.513408  - f   170000\n",
      "20:53:03.555306  - f   180000\n",
      "20:53:03.577866  - f   180000\n",
      "20:53:03.656074  - f   180000\n",
      "20:56:36.857865  - f   190000\n",
      "21:00:25.790906  - f   200000\n",
      "21:04:02.331956  - f   210000\n",
      "21:07:44.022683  - f   220000\n",
      "21:12:04.675994  - f   230000\n",
      "21:16:44.245132  - f   240000\n",
      "21:21:25.154774  - f   250000\n",
      "21:26:35.718145  - f   260000\n",
      "21:26:35.812897  - f   260000\n",
      "21:30:59.105344  - f   270000\n",
      "21:34:29.952535  - f   280000\n",
      "21:38:19.090056  - f   290000\n",
      "21:42:02.129947  - f   300000\n",
      "21:45:50.078648  - f   310000\n",
      "21:49:26.415420  - f   320000\n",
      "21:53:05.553398  - f   330000\n",
      "21:56:37.691752  - f   340000\n",
      "22:00:07.671853  - f   350000\n",
      "22:04:07.894867  - f   360000\n",
      "22:07:50.937815  - f   370000\n",
      "22:11:37.729652  - f   380000\n",
      "22:14:53.827403  - f   390000\n",
      "22:18:37.478389  - f   400000\n",
      "22:18:37.511978  - f   400000\n",
      "22:22:21.726267  - f   410000\n",
      "22:25:57.189665  - f   420000\n",
      "22:29:46.481277  - f   430000\n",
      "22:33:22.837848  - f   440000\n",
      "22:36:55.337401  - f   450000\n",
      "22:40:07.018426  - f   460000\n",
      "22:43:19.503104  - f   470000\n",
      "22:46:20.517243  - f   480000\n",
      "22:49:25.275317  - f   490000\n",
      "22:52:30.121709  - f   500000\n",
      "22:55:40.099648  - f   510000\n",
      "22:58:42.294398  - f   520000\n",
      "23:02:03.538280  - f   530000\n",
      "23:05:13.136012  - f   540000\n",
      "23:05:13.145538  - f   540000\n",
      "Finish\n"
     ]
    }
   ],
   "source": [
    "preProcess(\"2\")\n",
    "print(\"Finish\")"
   ]
  },
  {
   "cell_type": "code",
   "execution_count": 6,
   "metadata": {},
   "outputs": [],
   "source": [
    "with open('dataset/process/csv-test/2016-2-preprocess.csv', 'w',encoding=\"utf-8\",newline='') as file:\n",
    "    writer = csv.writer(file, delimiter=',', quotechar='\"', quoting=csv.QUOTE_MINIMAL)\n",
    "    for row in dataset:\n",
    "        writer.writerow([row[0], row[1]])     "
   ]
  },
  {
   "cell_type": "code",
   "execution_count": null,
   "metadata": {},
   "outputs": [],
   "source": []
  }
 ],
 "metadata": {
  "kernelspec": {
   "display_name": "Python 3",
   "language": "python",
   "name": "python3"
  },
  "language_info": {
   "codemirror_mode": {
    "name": "ipython",
    "version": 3
   },
   "file_extension": ".py",
   "mimetype": "text/x-python",
   "name": "python",
   "nbconvert_exporter": "python",
   "pygments_lexer": "ipython3",
   "version": "3.7.3"
  }
 },
 "nbformat": 4,
 "nbformat_minor": 2
}
