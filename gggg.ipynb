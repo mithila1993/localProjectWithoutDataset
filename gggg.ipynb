{
 "cells": [
  {
   "cell_type": "code",
   "execution_count": 1,
   "metadata": {},
   "outputs": [],
   "source": [
    "#import xlwt\n",
    "import GetOldTweets3 as got\n",
    "import winsound\n",
    "from openpyxl import Workbook\n",
    "import datetime"
   ]
  },
  {
   "cell_type": "code",
   "execution_count": 5,
   "metadata": {},
   "outputs": [],
   "source": [
    "wb = Workbook()\n",
    "ws = wb.active\n",
    "\n",
    "# startDate1 = \"2019-01-0\"\n",
    "# startDate2 = \"2019-01-\"\n",
    "startDate = ''\n",
    "querySearchTerm = \"tourism\"\n",
    "tweetLimit = 4000\n",
    "counter = 1"
   ]
  },
  {
   "cell_type": "code",
   "execution_count": 6,
   "metadata": {},
   "outputs": [],
   "source": [
    "def getTweets(startDate,endDate):\n",
    "    print(datetime.datetime.now().time(),startDate,endDate)\n",
    "    global counter\n",
    "\n",
    "    tweetCriteria = got.manager.TweetCriteria().setQuerySearch(querySearchTerm)\\\n",
    "                                               .setSince(startDate)\\\n",
    "                                               .setUntil(endDate)\\\n",
    "                                               .setMaxTweets(tweetLimit)\n",
    "\n",
    "    for index,x in enumerate(got.manager.TweetManager.getTweets(tweetCriteria)):\n",
    "        \n",
    "        datestring = str(x.date)\n",
    "        type = datestring +' | ' + x.text +' | ' + x.id\n",
    "        stringExcel = str(type)\n",
    "        \n",
    "        ws.cell(counter, 1, stringExcel)\n",
    "        counter += 1"
   ]
  },
  {
   "cell_type": "code",
   "execution_count": null,
   "metadata": {
    "scrolled": true
   },
   "outputs": [
    {
     "name": "stdout",
     "output_type": "stream",
     "text": [
      "15:42:57.875741 2018-06-27 2018-06-28\n",
      "15:49:05.351587 2018-06-28 2018-06-29\n"
     ]
    }
   ],
   "source": [
    "getTweets(\"2018-06-27\",\"2018-06-28\")\n",
    "wb.save('2018-06-27.xlsx')"
   ]
  },
  {
   "cell_type": "code",
   "execution_count": null,
   "metadata": {},
   "outputs": [],
   "source": []
  }
 ],
 "metadata": {
  "kernelspec": {
   "display_name": "Python 3",
   "language": "python",
   "name": "python3"
  },
  "language_info": {
   "codemirror_mode": {
    "name": "ipython",
    "version": 3
   },
   "file_extension": ".py",
   "mimetype": "text/x-python",
   "name": "python",
   "nbconvert_exporter": "python",
   "pygments_lexer": "ipython3",
   "version": "3.7.3"
  }
 },
 "nbformat": 4,
 "nbformat_minor": 2
}
