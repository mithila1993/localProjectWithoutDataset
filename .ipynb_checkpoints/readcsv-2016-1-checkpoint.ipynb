{
 "cells": [
  {
   "cell_type": "code",
   "execution_count": 1,
   "metadata": {},
   "outputs": [],
   "source": [
    "import csv\n",
    "from langdetect import detect\n",
    "import datetime"
   ]
  },
  {
   "cell_type": "code",
   "execution_count": 2,
   "metadata": {},
   "outputs": [],
   "source": [
    "dataset = []\n",
    "counter = 0\n",
    "previousText = ''"
   ]
  },
  {
   "cell_type": "code",
   "execution_count": 3,
   "metadata": {},
   "outputs": [],
   "source": [
    "def preProcess(start):\n",
    "    global counter, previousText, dataset\n",
    "    with open('dataset/process/2017-'+start+'.csv','r',encoding='Latin1')as f:\n",
    "      print(\"hello\",start)\n",
    "      data = csv.reader(f)\n",
    "      for row in data:\n",
    "        detectNumber = 0\n",
    "        scientificToNumber = \"a\"\n",
    "        stringExcel = str(row[1])\n",
    "        #idExcel = str(row[2])\n",
    "        #idExcel = int(row[2])\n",
    "#         if(idExcel.isdigit()):\n",
    "#             print(\"Hello - \",idExcel)\n",
    "        try:\n",
    "            scientificToNumber = int(float(row[2]))\n",
    "            numberToString = str(scientificToNumber)\n",
    "        except:\n",
    "            pass\n",
    "        try:\n",
    "            detectLanguage = detect(stringExcel)\n",
    "        except:\n",
    "            pass\n",
    "        if(detectLanguage == 'en' and previousText != stringExcel and len(stringExcel.split()) > 4 and scientificToNumber != \"a\"):\n",
    "            dataset.append([])\n",
    "            dataset[counter].append(row[0])\n",
    "            dataset[counter].append(row[1])\n",
    "            dataset[counter].append(row[2])\n",
    "            counter += 1\n",
    "            previousText = stringExcel\n",
    "        if(counter % 10000 == 0):\n",
    "            datestring = str(datetime.datetime.now().time())\n",
    "            print(datestring ,' - f  ',counter)"
   ]
  },
  {
   "cell_type": "code",
   "execution_count": 4,
   "metadata": {},
   "outputs": [
    {
     "name": "stdout",
     "output_type": "stream",
     "text": [
      "hello 1\n",
      "10:51:46.410968  - f   10000\n",
      "10:51:46.436037  - f   10000\n",
      "10:55:35.821392  - f   20000\n",
      "10:59:24.711679  - f   30000\n",
      "11:02:21.958329  - f   40000\n",
      "11:05:24.744298  - f   50000\n",
      "11:08:04.809107  - f   60000\n",
      "11:11:18.847334  - f   70000\n",
      "11:14:40.919268  - f   80000\n",
      "11:18:07.232410  - f   90000\n",
      "11:21:05.855558  - f   100000\n",
      "11:24:20.406998  - f   110000\n",
      "11:27:51.981267  - f   120000\n",
      "11:31:10.674086  - f   130000\n",
      "11:34:50.467753  - f   140000\n",
      "11:38:07.142323  - f   150000\n",
      "11:41:34.590500  - f   160000\n",
      "11:44:47.874568  - f   170000\n",
      "11:47:51.584008  - f   180000\n",
      "11:51:01.657118  - f   190000\n",
      "11:54:02.268824  - f   200000\n",
      "11:57:02.364709  - f   210000\n",
      "12:00:02.668876  - f   220000\n",
      "12:03:18.092628  - f   230000\n",
      "12:06:20.195910  - f   240000\n",
      "12:09:18.398935  - f   250000\n",
      "12:12:30.346235  - f   260000\n",
      "12:15:37.703515  - f   270000\n",
      "12:19:04.756054  - f   280000\n",
      "12:22:06.394961  - f   290000\n",
      "12:25:13.254420  - f   300000\n",
      "12:28:16.117933  - f   310000\n",
      "12:31:41.381672  - f   320000\n",
      "12:35:00.669615  - f   330000\n",
      "12:38:23.758895  - f   340000\n",
      "12:41:31.064514  - f   350000\n",
      "12:44:55.604663  - f   360000\n",
      "12:47:54.961669  - f   370000\n",
      "12:49:46.818704  - f   380000\n",
      "12:52:31.985445  - f   390000\n",
      "12:55:20.691760  - f   400000\n",
      "12:58:19.641083  - f   410000\n",
      "13:01:38.545199  - f   420000\n",
      "13:04:41.286205  - f   430000\n",
      "13:08:01.845486  - f   440000\n",
      "13:11:01.843178  - f   450000\n",
      "13:13:48.935474  - f   460000\n",
      "13:17:03.024983  - f   470000\n",
      "13:20:11.267109  - f   480000\n",
      "13:20:11.276133  - f   480000\n",
      "13:23:36.623376  - f   490000\n",
      "13:26:52.269996  - f   500000\n",
      "Finish\n"
     ]
    }
   ],
   "source": [
    "preProcess(\"1\")\n",
    "print(\"Finish\")"
   ]
  },
  {
   "cell_type": "code",
   "execution_count": 5,
   "metadata": {},
   "outputs": [],
   "source": [
    "with open('dataset/process/csv-test/2017-1-preprocess.csv', 'w',encoding=\"utf-8\",newline='') as file:\n",
    "    writer = csv.writer(file, delimiter=',', quotechar='\"', quoting=csv.QUOTE_MINIMAL)\n",
    "    for row in dataset:\n",
    "        writer.writerow([row[0], row[1], row[2]])     "
   ]
  },
  {
   "cell_type": "code",
   "execution_count": null,
   "metadata": {},
   "outputs": [],
   "source": []
  }
 ],
 "metadata": {
  "kernelspec": {
   "display_name": "Python 3",
   "language": "python",
   "name": "python3"
  },
  "language_info": {
   "codemirror_mode": {
    "name": "ipython",
    "version": 3
   },
   "file_extension": ".py",
   "mimetype": "text/x-python",
   "name": "python",
   "nbconvert_exporter": "python",
   "pygments_lexer": "ipython3",
   "version": "3.7.3"
  }
 },
 "nbformat": 4,
 "nbformat_minor": 2
}
