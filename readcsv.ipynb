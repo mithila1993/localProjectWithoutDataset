{
 "cells": [
  {
   "cell_type": "code",
   "execution_count": 9,
   "metadata": {},
   "outputs": [],
   "source": [
    "import csv\n",
    "from langdetect import detect\n",
    "import datetime"
   ]
  },
  {
   "cell_type": "code",
   "execution_count": 10,
   "metadata": {},
   "outputs": [],
   "source": [
    "dataset = []\n",
    "counter = 0\n",
    "previousText = ''"
   ]
  },
  {
   "cell_type": "code",
   "execution_count": 11,
   "metadata": {},
   "outputs": [],
   "source": [
    "def preProcess(start):\n",
    "    global counter, previousText, dataset\n",
    "    with open('dataset/process/2014-'+start+'.csv','r',encoding='Latin1')as f:\n",
    "      print(\"hello\",start)\n",
    "      data = csv.reader(f)\n",
    "      for row in data:\n",
    "        detectNumber = 0\n",
    "        scientificToNumber = \"a\"\n",
    "        stringExcel = str(row[1])\n",
    "        #idExcel = str(row[2])\n",
    "        #idExcel = int(row[2])\n",
    "#         if(idExcel.isdigit()):\n",
    "#             print(\"Hello - \",idExcel)\n",
    "        try:\n",
    "            scientificToNumber = int(float(row[2]))\n",
    "            numberToString = str(scientificToNumber)\n",
    "        except:\n",
    "            pass\n",
    "        try:\n",
    "            detectLanguage = detect(stringExcel)\n",
    "        except:\n",
    "            pass\n",
    "        if(detectLanguage == 'en' and previousText != stringExcel and len(stringExcel.split()) > 4 and scientificToNumber != \"a\"):\n",
    "            dataset.append([])\n",
    "            dataset[counter].append(row[0])\n",
    "            dataset[counter].append(row[1])\n",
    "            dataset[counter].append(row[2])\n",
    "            counter += 1\n",
    "            previousText = stringExcel\n",
    "        if(counter % 10000 == 0):\n",
    "            datestring = str(datetime.datetime.now().time())\n",
    "            print(datestring ,' - f  ',counter)"
   ]
  },
  {
   "cell_type": "code",
   "execution_count": 12,
   "metadata": {},
   "outputs": [
    {
     "name": "stdout",
     "output_type": "stream",
     "text": [
      "hello 1\n",
      "04:23:10.161963  - f   10000\n",
      "04:26:45.426469  - f   20000\n",
      "04:30:14.907976  - f   30000\n",
      "04:34:04.311938  - f   40000\n",
      "04:37:26.008581  - f   50000\n",
      "04:41:00.618102  - f   60000\n",
      "04:44:30.393295  - f   70000\n",
      "04:46:59.437424  - f   80000\n",
      "04:46:59.447950  - f   80000\n",
      "04:46:59.463491  - f   80000\n",
      "04:49:28.044618  - f   90000\n",
      "04:49:28.050634  - f   90000\n",
      "04:51:51.911153  - f   100000\n",
      "04:54:15.284795  - f   110000\n",
      "04:56:30.587851  - f   120000\n",
      "04:59:03.384589  - f   130000\n",
      "05:01:27.691278  - f   140000\n",
      "05:01:27.719855  - f   140000\n",
      "05:04:48.256094  - f   150000\n",
      "05:08:43.289725  - f   160000\n",
      "05:12:34.474704  - f   170000\n",
      "05:16:10.925873  - f   180000\n",
      "05:19:36.776316  - f   190000\n",
      "05:22:52.387400  - f   200000\n",
      "05:26:32.491746  - f   210000\n",
      "05:29:57.995559  - f   220000\n",
      "05:33:28.993638  - f   230000\n",
      "05:36:43.827866  - f   240000\n",
      "05:39:38.204855  - f   250000\n",
      "05:42:59.287172  - f   260000\n",
      "05:46:36.731921  - f   270000\n",
      "05:50:12.195626  - f   280000\n",
      "05:53:55.321020  - f   290000\n",
      "05:57:22.036225  - f   300000\n",
      "06:00:49.068383  - f   310000\n",
      "06:04:09.288935  - f   320000\n",
      "06:07:53.737287  - f   330000\n",
      "06:11:17.917414  - f   340000\n",
      "06:15:13.497731  - f   350000\n",
      "06:18:29.649752  - f   360000\n",
      "06:21:53.751233  - f   370000\n",
      "06:25:07.957111  - f   380000\n",
      "06:25:07.967138  - f   380000\n",
      "06:28:26.185940  - f   390000\n",
      "06:31:35.886219  - f   400000\n",
      "06:34:43.187813  - f   410000\n",
      "06:37:55.359392  - f   420000\n",
      "06:41:07.522452  - f   430000\n",
      "06:44:33.136904  - f   440000\n",
      "06:47:51.316259  - f   450000\n",
      "06:51:33.997397  - f   460000\n",
      "Finish\n"
     ]
    }
   ],
   "source": [
    "preProcess(\"1\")\n",
    "print(\"Finish\")"
   ]
  },
  {
   "cell_type": "code",
   "execution_count": 13,
   "metadata": {},
   "outputs": [],
   "source": [
    "with open('dataset/process/csv-test/2014-1-preprocess.csv', 'w',encoding=\"utf-8\",newline='') as file:\n",
    "    writer = csv.writer(file, delimiter=',', quotechar='\"', quoting=csv.QUOTE_MINIMAL)\n",
    "    for row in dataset:\n",
    "        writer.writerow([row[0], row[1], row[2]])     "
   ]
  },
  {
   "cell_type": "code",
   "execution_count": null,
   "metadata": {},
   "outputs": [],
   "source": []
  }
 ],
 "metadata": {
  "kernelspec": {
   "display_name": "Python 3",
   "language": "python",
   "name": "python3"
  },
  "language_info": {
   "codemirror_mode": {
    "name": "ipython",
    "version": 3
   },
   "file_extension": ".py",
   "mimetype": "text/x-python",
   "name": "python",
   "nbconvert_exporter": "python",
   "pygments_lexer": "ipython3",
   "version": "3.7.3"
  }
 },
 "nbformat": 4,
 "nbformat_minor": 2
}
