{
 "cells": [
  {
   "cell_type": "code",
   "execution_count": 1,
   "metadata": {},
   "outputs": [],
   "source": [
    "import rake\n",
    "import operator\n",
    "import io"
   ]
  },
  {
   "cell_type": "code",
   "execution_count": 2,
   "metadata": {},
   "outputs": [
    {
     "name": "stdout",
     "output_type": "stream",
     "text": [
      "keywords:  [('podcast production company pacific content', 25.0), ('google quietly rolled', 8.5), ('google news', 4.5), ('android users', 4.0), ('listen', 1.0), ('podcasts', 1.0), ('subscribe', 1.0), ('shows', 1.0), ('works', 1.0), ('phone', 1.0), ('exclusive', 1.0), ('text', 1.0)]\n",
      "('podcast production company pacific content', 25.0)\n",
      "('google quietly rolled', 8.5)\n",
      "('google news', 4.5)\n",
      "('android users', 4.0)\n",
      "('listen', 1.0)\n",
      "('podcasts', 1.0)\n",
      "('subscribe', 1.0)\n",
      "('shows', 1.0)\n",
      "('works', 1.0)\n",
      "('phone', 1.0)\n",
      "('exclusive', 1.0)\n",
      "('text', 1.0)\n"
     ]
    }
   ],
   "source": [
    "# Reka setup with stopword directory\n",
    "stop_dir = \"E:/Level 4 Project/rake/data/stoplists/SmartStoplist.txt\"\n",
    "rake_object = rake.Rake(stop_dir)\n",
    "\n",
    "# Sample text to test RAKE\n",
    "text = \"\"\"Google quietly rolled out a new way for Android users to listen \n",
    "to podcasts and subscribe to shows they like, and it already works on \n",
    "your phone. Podcast production company Pacific Content got the exclusive \n",
    "on it.This text is taken from Google news.\"\"\"\n",
    "\n",
    "# Extract keywords\n",
    "keywords = rake_object.run(text)\n",
    "print (\"keywords: \", keywords)\n",
    "for x in keywords:\n",
    "    print(x)"
   ]
  },
  {
   "cell_type": "code",
   "execution_count": null,
   "metadata": {},
   "outputs": [],
   "source": []
  }
 ],
 "metadata": {
  "kernelspec": {
   "display_name": "Python 3",
   "language": "python",
   "name": "python3"
  },
  "language_info": {
   "codemirror_mode": {
    "name": "ipython",
    "version": 3
   },
   "file_extension": ".py",
   "mimetype": "text/x-python",
   "name": "python",
   "nbconvert_exporter": "python",
   "pygments_lexer": "ipython3",
   "version": "3.7.3"
  }
 },
 "nbformat": 4,
 "nbformat_minor": 2
}
