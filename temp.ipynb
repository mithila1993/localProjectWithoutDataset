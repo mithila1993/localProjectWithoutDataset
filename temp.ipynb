{
 "cells": [
  {
   "cell_type": "code",
   "execution_count": 1,
   "metadata": {},
   "outputs": [],
   "source": [
    "import RAKE"
   ]
  },
  {
   "cell_type": "code",
   "execution_count": 2,
   "metadata": {},
   "outputs": [],
   "source": [
    "%run Experiment-other.ipynb"
   ]
  },
  {
   "cell_type": "code",
   "execution_count": 3,
   "metadata": {},
   "outputs": [],
   "source": [
    "from random import randint\n",
    "from numpy import array\n",
    "from numpy import argmax\n",
    "from tensorflow.keras.models import Sequential\n",
    "from tensorflow.keras.layers import LSTM\n",
    "from tensorflow.keras.layers import Dense"
   ]
  },
  {
   "cell_type": "code",
   "execution_count": 5,
   "metadata": {},
   "outputs": [
    {
     "name": "stdout",
     "output_type": "stream",
     "text": [
      "keywords:  [('podcast production company pacific content', 25.0), ('google quietly rolled', 8.5), ('google news', 4.5)]\n",
      "('podcast production company pacific content', 25.0)\n",
      "('google quietly rolled', 8.5)\n",
      "('google news', 4.5)\n",
      "('android users', 4.0)\n",
      "('listen', 1.0)\n",
      "('podcasts', 1.0)\n",
      "('subscribe', 1.0)\n",
      "('shows', 1.0)\n",
      "('works', 1.0)\n",
      "('phone', 1.0)\n",
      "('exclusive', 1.0)\n",
      "('text', 1.0)\n"
     ]
    }
   ],
   "source": [
    "# Reka setup with stopword directory\n",
    "stop_dir = \"SmartStoplist.txt\"\n",
    "rake_object = RAKE.Rake(stop_dir)\n",
    "\n",
    "# Sample text to test RAKE\n",
    "text = \"\"\"Google quietly rolled out a new way for Android users to listen \n",
    "to podcasts and subscribe to shows they like, and it already works on \n",
    "your phone. Podcast production company Pacific Content got the exclusive \n",
    "on it.This text is taken from Google news.\"\"\"\n",
    "\n",
    "# Extract keywords\n",
    "keywords = rake_object.run(text)\n",
    "print (\"keywords: \", keywords[:3])\n",
    "for x in keywords:\n",
    "    print(x)"
   ]
  },
  {
   "cell_type": "code",
   "execution_count": 7,
   "metadata": {},
   "outputs": [
    {
     "name": "stdout",
     "output_type": "stream",
     "text": [
      "('aid=%2f20131231%2fnews01%2f131239985%2f0%2ffrontpage%2fgreen-tourism-conference-to-unite-businesses-from-the-catskills-to-poconos  las vegas hospitality association', 300.77645222104394)\n",
      "('org/national-security-technology-and-liberty/court-rules-no-suspicion-needed-laptop-searches-border #aclu  lol denis foynes-', 216.25232859675586)\n",
      "('/2014/01/01/at-bill-de-blasios-mayoral-inauguration-invocation-speaker-says-nyc-is-a-plantation/  british nationals returning', 201.82142857142856)\n",
      "('/wow-a-super-simple-set-of-steps-to-stop-cyberbullying-from-happening-to-your-kid-5', 186.17857142857142)\n",
      "('/rs/2014/01/01/jobs-tax-revenue-and-tourism-americas-first-marijuana-stores-open-in-colorado/ #norml #bettermn #stribpol #mnleg', 169.47147943273018)\n",
      "('/2007/01/nha-trang-cam-ranh-major-tourism-chain-to-be-shaped/  #brisbane-based #tourism operators invited', 162.05568221986567)\n",
      "('/2013/05/one-more-information-channel-on-marine-tourism-to-be-launched-in-nha-trang-khanh-hoa/', 157.1570077765995)\n",
      "('%2f41247%2fafrican-safaris-and-solar-powered-lamps-light-children-s-lives#2703 #tourism #africantourism', 143.10524334644015)\n",
      "('/2014/01/01/tourism-in-the-news-egyptian-hajj-companies-saved-30-million-riyals-after-al-tawafa-deal/  #rt #fb', 137.4616534212651)\n",
      "('/like-a-napa-valley-wine-tour-pot-tourism-ready-to-light-up-in-colorado/  boycott kerala tourism &amp', 135.9447656688676)\n"
     ]
    }
   ],
   "source": [
    "count_all = []\n",
    "popular_common_words = []\n",
    "i=0\n",
    "sets=1\n",
    "\n",
    "c =0\n",
    "for x in range(sets):\n",
    "    count_all.append(Counter())\n",
    "\n",
    "for y in range(sets):\n",
    "    full_sentence = ''\n",
    "    for x in range(1, 1000):\n",
    "        value = df.loc[i, \"Text\"]\n",
    "\n",
    "        full_sentence = full_sentence + value\n",
    "        i = i + 1\n",
    "    #print(full_sentence)\n",
    "    stop_dir = \"SmartStoplist.txt\"\n",
    "    rake_object = RAKE.Rake(stop_dir)\n",
    "    keywords = rake_object.run(full_sentence)\n",
    "    #print (\"keywords: \", keywords[:10]) \n",
    "    for x in keywords[:10]:\n",
    "        print(x)"
   ]
  },
  {
   "cell_type": "code",
   "execution_count": null,
   "metadata": {},
   "outputs": [],
   "source": [
    "testaccuracy = []\n",
    "\n",
    "def getOneAccuracy(a,b):\n",
    "    i = 0;\n",
    "    for x in range(10):\n",
    "        if(a[x] == b[x]):\n",
    "            i += 1\n",
    "    return i/10\n",
    "\n",
    "def getTestData():\n",
    "    for i in range(200):\n",
    "        X, y = generate_data()\n",
    "        yhat = model.predict(X)\n",
    "        testaccuracy.append(getOneAccuracy(one_hot_decode(y),one_hot_decode(yhat)))\n",
    "    \n",
    "getTestData()\n",
    "print(testaccuracy)\n",
    "print('average - ',sum(testaccuracy) / len(testaccuracy))"
   ]
  }
 ],
 "metadata": {
  "kernelspec": {
   "display_name": "Python 3",
   "language": "python",
   "name": "python3"
  },
  "language_info": {
   "codemirror_mode": {
    "name": "ipython",
    "version": 3
   },
   "file_extension": ".py",
   "mimetype": "text/x-python",
   "name": "python",
   "nbconvert_exporter": "python",
   "pygments_lexer": "ipython3",
   "version": "3.7.3"
  }
 },
 "nbformat": 4,
 "nbformat_minor": 2
}
