{
 "cells": [
  {
   "cell_type": "code",
   "execution_count": 3,
   "metadata": {},
   "outputs": [],
   "source": [
    "import csv\n",
    "from langdetect import detect\n",
    "import datetime"
   ]
  },
  {
   "cell_type": "code",
   "execution_count": 4,
   "metadata": {},
   "outputs": [],
   "source": [
    "dataset = []\n",
    "counter = 0\n",
    "previousText = ''"
   ]
  },
  {
   "cell_type": "code",
   "execution_count": 5,
   "metadata": {},
   "outputs": [],
   "source": [
    "def preProcess(start):\n",
    "    global counter, previousText, dataset\n",
    "    with open('dataset/process/2016-'+start+'.csv','r',encoding='Latin1')as f:\n",
    "      print(\"hello\",start)\n",
    "      data = csv.reader(f)\n",
    "      for row in data:\n",
    "        detectNumber = 0\n",
    "        scientificToNumber = \"a\"\n",
    "        stringExcel = str(row[1])\n",
    "        #idExcel = str(row[2])\n",
    "        #idExcel = int(row[2])\n",
    "#         if(idExcel.isdigit()):\n",
    "#             print(\"Hello - \",idExcel)\n",
    "        try:\n",
    "            #scientificToNumber = int(float(row[2]))\n",
    "            numberToString = str(scientificToNumber)\n",
    "        except:\n",
    "            pass\n",
    "        try:\n",
    "            detectLanguage = detect(stringExcel)\n",
    "        except:\n",
    "            pass\n",
    "        if(detectLanguage == 'en' and previousText != stringExcel and len(stringExcel.split()) > 4):\n",
    "            dataset.append([])\n",
    "            dataset[counter].append(row[0])\n",
    "            dataset[counter].append(row[1])\n",
    "            #dataset[counter].append(row[2])\n",
    "            counter += 1\n",
    "            previousText = stringExcel\n",
    "        if(counter % 10000 == 0):\n",
    "            datestring = str(datetime.datetime.now().time())\n",
    "            print(datestring ,' - f  ',counter)"
   ]
  },
  {
   "cell_type": "code",
   "execution_count": 6,
   "metadata": {},
   "outputs": [
    {
     "name": "stdout",
     "output_type": "stream",
     "text": [
      "hello 1\n",
      "19:45:14.652717  - f   10000\n",
      "19:48:35.304022  - f   20000\n",
      "19:52:33.209724  - f   30000\n",
      "19:56:00.672432  - f   40000\n",
      "19:56:00.687008  - f   40000\n",
      "19:59:37.871814  - f   50000\n",
      "20:02:24.959334  - f   60000\n",
      "20:05:13.905225  - f   70000\n",
      "20:09:01.125384  - f   80000\n",
      "20:09:01.142931  - f   80000\n",
      "20:09:01.186547  - f   80000\n",
      "20:09:01.298344  - f   80000\n",
      "20:13:59.096716  - f   90000\n",
      "20:18:58.548944  - f   100000\n",
      "20:18:58.562981  - f   100000\n",
      "20:23:56.355809  - f   110000\n",
      "20:28:32.059922  - f   120000\n",
      "20:33:23.781092  - f   130000\n",
      "20:37:10.534496  - f   140000\n",
      "20:40:47.683174  - f   150000\n",
      "20:44:22.992457  - f   160000\n",
      "20:48:13.951073  - f   170000\n",
      "20:51:38.696260  - f   180000\n",
      "20:55:04.399621  - f   190000\n",
      "20:58:34.823468  - f   200000\n",
      "20:58:34.836001  - f   200000\n",
      "21:02:03.163721  - f   210000\n",
      "21:02:03.181769  - f   210000\n",
      "21:05:41.274433  - f   220000\n",
      "21:09:03.631273  - f   230000\n",
      "21:13:24.750398  - f   240000\n",
      "21:17:41.143862  - f   250000\n",
      "21:21:26.583572  - f   260000\n",
      "21:25:14.064120  - f   270000\n",
      "21:29:00.076833  - f   280000\n",
      "21:32:53.422782  - f   290000\n",
      "21:36:35.065070  - f   300000\n",
      "21:40:20.614553  - f   310000\n",
      "21:44:01.251633  - f   320000\n",
      "21:47:43.060215  - f   330000\n",
      "21:51:09.725541  - f   340000\n",
      "21:54:52.977433  - f   350000\n",
      "21:58:23.934633  - f   360000\n",
      "22:02:05.886082  - f   370000\n",
      "22:06:09.960919  - f   380000\n",
      "22:06:09.963928  - f   380000\n",
      "22:09:56.137632  - f   390000\n",
      "22:13:34.880028  - f   400000\n",
      "22:17:03.395829  - f   410000\n",
      "22:21:05.223933  - f   420000\n",
      "22:24:51.523632  - f   430000\n",
      "22:28:30.629037  - f   440000\n",
      "Finish\n"
     ]
    }
   ],
   "source": [
    "preProcess(\"1\")\n",
    "print(\"Finish\")"
   ]
  },
  {
   "cell_type": "code",
   "execution_count": 8,
   "metadata": {},
   "outputs": [],
   "source": [
    "with open('dataset/process/csv-test/2016-1-preprocess.csv', 'w',encoding=\"utf-8\",newline='') as file:\n",
    "    writer = csv.writer(file, delimiter=',', quotechar='\"', quoting=csv.QUOTE_MINIMAL)\n",
    "    for row in dataset:\n",
    "        writer.writerow([row[0], row[1]])     "
   ]
  },
  {
   "cell_type": "code",
   "execution_count": null,
   "metadata": {},
   "outputs": [],
   "source": []
  }
 ],
 "metadata": {
  "kernelspec": {
   "display_name": "Python 3",
   "language": "python",
   "name": "python3"
  },
  "language_info": {
   "codemirror_mode": {
    "name": "ipython",
    "version": 3
   },
   "file_extension": ".py",
   "mimetype": "text/x-python",
   "name": "python",
   "nbconvert_exporter": "python",
   "pygments_lexer": "ipython3",
   "version": "3.7.3"
  }
 },
 "nbformat": 4,
 "nbformat_minor": 2
}
