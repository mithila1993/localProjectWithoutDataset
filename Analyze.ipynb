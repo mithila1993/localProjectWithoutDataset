{
 "cells": [
  {
   "cell_type": "code",
   "execution_count": 1,
   "metadata": {},
   "outputs": [],
   "source": [
    "import csv\n",
    "from nltk.tokenize import word_tokenize\n",
    "import xlrd\n",
    "import re\n",
    "from nltk import bigrams\n",
    "from nltk import ngrams\n",
    "import operator\n",
    "from collections import Counter\n",
    "from nltk.corpus import stopwords\n",
    "import string\n",
    "import matplotlib.pyplot as plt"
   ]
  },
  {
   "cell_type": "code",
   "execution_count": 2,
   "metadata": {},
   "outputs": [],
   "source": [
    "dataset = []"
   ]
  },
  {
   "cell_type": "code",
   "execution_count": 3,
   "metadata": {},
   "outputs": [],
   "source": [
    "with open('dataset/process/analyze/temp.csv','r',encoding='Latin1')as f:\n",
    "    data = csv.reader(f)\n",
    "    for row in data:\n",
    "      dataset.append(row[1])"
   ]
  },
  {
   "cell_type": "code",
   "execution_count": 4,
   "metadata": {},
   "outputs": [],
   "source": [
    "emoticons_str = r\"\"\"\n",
    "    (?:\n",
    "        [:=;] # Eyes\n",
    "        [oO\\-]? # Nose (optional)\n",
    "        [D\\)\\]\\(\\]/\\\\OpP] # Mouth\n",
    "    )\"\"\""
   ]
  },
  {
   "cell_type": "code",
   "execution_count": 5,
   "metadata": {},
   "outputs": [],
   "source": [
    "def preprocess_fornothash(s, lowercase=True):\n",
    "    tokens = tokenize_fornothash(s)\n",
    "    if lowercase:\n",
    "        tokens = [token if emoticon_re.search(token) else token.lower() for token in tokens]\n",
    "    return tokens\n",
    "\n",
    "def tokenize_fornothash(s):\n",
    "    return tokens_re_fornothash.findall(s)\n",
    "\n",
    "\n",
    "regex_str_fornothash = [\n",
    "    emoticons_str,\n",
    "    r'<[^>]+>',  # HTML tags\n",
    "    r'(?:@[\\w_]+)',  # @-mentions\n",
    "    #r\"(?:\\#+[\\w_]+[\\w\\'_\\-]*[\\w_]+)\",  # hash-tags\n",
    "    r'http[s]?://(?:[a-z]|[0-9]|[$-_@.&amp;+]|[!*\\(\\),]|(?:%[0-9a-f][0-9a-f]))+',  # URLs\n",
    "\n",
    "    r'(?:(?:\\d+,?)+(?:\\.?\\d+)?)',  # numbers\n",
    "    r\"(?:[a-z][a-z'\\-_]+[a-z])\",  # words with - and '\n",
    "    r'(?:[\\w_]+)',  # other words\n",
    "    r'(?:\\S)'  # anything else\n",
    "]\n",
    "\n",
    "tokens_re_fornothash = re.compile(r'(' + '|'.join(regex_str_fornothash) + ')', re.VERBOSE | re.IGNORECASE)\n",
    "emoticon_re = re.compile(r'^' + emoticons_str + '$', re.VERBOSE | re.IGNORECASE)"
   ]
  },
  {
   "cell_type": "code",
   "execution_count": 6,
   "metadata": {},
   "outputs": [],
   "source": [
    "def preprocess_forhash(s, lowercase=True):\n",
    "    tokens = tokenize_forhash(s)\n",
    "    if lowercase:\n",
    "        tokens = [token if emoticon_re.search(token) else token.lower() for token in tokens]\n",
    "    return tokens\n",
    "\n",
    "def tokenize_forhash(s):\n",
    "    return tokens_re_forhash.findall(s)\n",
    "\n",
    "regex_str_forhash = [\n",
    "    emoticons_str,\n",
    "    r'<[^>]+>',  # HTML tags\n",
    "    r'(?:@[\\w_]+)',  # @-mentions\n",
    "    r\"(?:\\#+[\\w_]+[\\w\\'_\\-]*[\\w_]+)\",  # hash-tags\n",
    "    r'http[s]?://(?:[a-z]|[0-9]|[$-_@.&amp;+]|[!*\\(\\),]|(?:%[0-9a-f][0-9a-f]))+',  # URLs\n",
    "\n",
    "    r'(?:(?:\\d+,?)+(?:\\.?\\d+)?)',  # numbers\n",
    "    r\"(?:[a-z][a-z'\\-_]+[a-z])\",  # words with - and '\n",
    "    r'(?:[\\w_]+)',  # other words\n",
    "    r'(?:\\S)'  # anything else\n",
    "]\n",
    "\n",
    "tokens_re_forhash = re.compile(r'(' + '|'.join(regex_str_forhash) + ')', re.VERBOSE | re.IGNORECASE)\n",
    "emoticon_re = re.compile(r'^' + emoticons_str + '$', re.VERBOSE | re.IGNORECASE)"
   ]
  },
  {
   "cell_type": "code",
   "execution_count": 7,
   "metadata": {},
   "outputs": [],
   "source": [
    "punctuation = list(string.punctuation)\n",
    "unnecssary = ['The','tourism','I','rt', 'via','...','â','click']\n",
    "unnecssary_hash = ['#','#tourism']\n",
    "ascii_words = ['\\x92','\\x96']\n",
    "years = ['2018']\n",
    "stop = stopwords.words('english') + punctuation + unnecssary + ascii_words + years + unnecssary_hash\n",
    "\n",
    "\n",
    "count_all = Counter()\n",
    "count_hash = Counter()\n",
    "count_bigram = Counter()\n",
    "count_trigram = Counter()\n",
    "\n",
    "for x in range(1, 1000):\n",
    "    value = dataset[x]\n",
    "    #print(value)\n",
    "    #print(preprocess(value))\n",
    "\n",
    "    terms_all = [term for term in preprocess_fornothash(value) if term not in stop]\n",
    "    \n",
    "    terms_bigram = bigrams(terms_all)\n",
    "    \n",
    "    terms_trigram = ngrams(terms_all, 3)\n",
    "\n",
    "    #terms_single = set(terms_all)\n",
    "\n",
    "    terms_hash = [term for term in preprocess_forhash(value)\n",
    "                  if term.startswith('#') if term not in stop]\n",
    "\n",
    "    count_all.update(terms_all)\n",
    "    count_hash.update(terms_hash)  \n",
    "    count_bigram.update(terms_bigram)\n",
    "    count_trigram.update(terms_trigram)"
   ]
  },
  {
   "cell_type": "code",
   "execution_count": 8,
   "metadata": {},
   "outputs": [
    {
     "name": "stdout",
     "output_type": "stream",
     "text": [
      "common words\n",
      "('travel', 254)\n",
      "('new', 113)\n",
      "('year', 77)\n",
      "('amp', 50)\n",
      "('vacation', 46)\n",
      "('tourist', 44)\n",
      "('happy', 40)\n",
      "('jobs', 36)\n",
      "('holiday', 35)\n",
      "('gt', 35)\n",
      "\n",
      "hash words\n",
      "('#travel', 184)\n",
      "('#vacation', 41)\n",
      "('#wanderlust', 30)\n",
      "('#traveling', 24)\n",
      "('#holiday', 24)\n",
      "('#tourist', 24)\n",
      "('#instatravel', 22)\n",
      "('#roadtrip', 20)\n",
      "('#photooftheday', 20)\n",
      "('#travelgram', 20)\n",
      "\n",
      "bigrams words\n",
      "(('new', 'year'), 45)\n",
      "(('happy', 'new'), 26)\n",
      "(('social', 'media'), 18)\n",
      "(('travel', 'wanderlust'), 18)\n",
      "(('new', 'jobs'), 17)\n",
      "(('travel', 'jobs'), 17)\n",
      "(('apply', 'link'), 17)\n",
      "(('link', 'gt'), 17)\n",
      "(('picton', 'instagram'), 16)\n",
      "(('instagram', 'travel'), 16)\n",
      "\n",
      "trigrams words\n",
      "(('happy', 'new', 'year'), 26)\n",
      "(('apply', 'link', 'gt'), 17)\n",
      "(('picton', 'instagram', 'travel'), 16)\n",
      "(('instagram', 'travel', 'roadtrip'), 16)\n",
      "(('travel', 'roadtrip', 'amazon'), 16)\n",
      "(('roadtrip', 'amazon', 'author'), 16)\n",
      "(('amazon', 'author', 'writer'), 16)\n",
      "(('hydropower', 'station', 'raises'), 16)\n",
      "(('station', 'raises', 'alarm'), 16)\n",
      "(('raises', 'alarm', 'wildlife'), 16)\n"
     ]
    }
   ],
   "source": [
    "popular_common_words = count_all.most_common(10)\n",
    "popular_hash_words = count_hash.most_common(10)\n",
    "popular_bigrams_words = count_bigram.most_common(10)\n",
    "popular_trigrams_words = count_trigram.most_common(10)\n",
    "\n",
    "print(\"common words\")\n",
    "for x in popular_common_words:\n",
    "    print(x)\n",
    "    \n",
    "print(\"\\nhash words\")\n",
    "for x in popular_hash_words:\n",
    "    print(x)\n",
    "    \n",
    "print(\"\\nbigrams words\")\n",
    "for x in popular_bigrams_words:\n",
    "    print(x)\n",
    "    \n",
    "print(\"\\ntrigrams words\")\n",
    "for x in popular_trigrams_words:\n",
    "    print(x)"
   ]
  },
  {
   "cell_type": "code",
   "execution_count": 9,
   "metadata": {},
   "outputs": [],
   "source": [
    "y = 0\n",
    "word_set = []\n",
    "word_set_vacation = []\n",
    "for x in range(100):\n",
    "    word_set.append(0)\n",
    "def word_count(str,specific_word):\n",
    "    global word_set\n",
    "    words = str.split()\n",
    "    \n",
    "    for word in words:\n",
    "        if specific_word in word:\n",
    "            word_set[y] += 1"
   ]
  },
  {
   "cell_type": "code",
   "execution_count": 10,
   "metadata": {},
   "outputs": [
    {
     "name": "stdout",
     "output_type": "stream",
     "text": [
      "[48, 28, 22, 27, 44, 64, 50, 36, 41, 31, 38, 41, 21, 40, 26, 39, 33, 23, 34, 43, 46, 27, 44, 50, 35, 16, 44, 69, 19, 41, 38, 18, 28, 36, 17, 40, 26, 22, 18, 23, 19, 23, 26, 22, 22, 29, 32, 26, 53, 30, 30, 22, 58, 33, 16, 33, 46, 42, 26, 47, 37, 34, 33, 30, 41, 25, 38, 21, 25, 24, 38, 28, 23, 40, 20, 27, 26, 31, 17, 16, 23, 16, 19, 43, 32, 24, 39, 46, 40, 16, 35, 28, 70, 45, 31, 58, 18, 54, 40, 51]\n"
     ]
    }
   ],
   "source": [
    "for x in range(1, 10000):\n",
    "    value = dataset[x]\n",
    "    word_count(dataset[x],'travel')\n",
    "    if(x % 100 == 0):\n",
    "        y += 1\n",
    "        \n",
    "print(word_set)"
   ]
  },
  {
   "cell_type": "code",
   "execution_count": 11,
   "metadata": {},
   "outputs": [
    {
     "data": {
      "image/png": "[encoded data removed]",
      "text/plain": [
       "<Figure size 432x288 with 1 Axes>"
      ]
     },
     "metadata": {
      "needs_background": "light"
     },
     "output_type": "display_data"
    }
   ],
   "source": [
    "X = range(100)\n",
    "plt.plot(X, word_set )\n",
    "plt.legend(['travel', 'y = 2x'], loc='upper left')\n",
    "plt.show()"
   ]
  },
  {
   "cell_type": "code",
   "execution_count": null,
   "metadata": {},
   "outputs": [],
   "source": []
  }
 ],
 "metadata": {
  "kernelspec": {
   "display_name": "Python 3",
   "language": "python",
   "name": "python3"
  },
  "language_info": {
   "codemirror_mode": {
    "name": "ipython",
    "version": 3
   },
   "file_extension": ".py",
   "mimetype": "text/x-python",
   "name": "python",
   "nbconvert_exporter": "python",
   "pygments_lexer": "ipython3",
   "version": "3.7.3"
  }
 },
 "nbformat": 4,
 "nbformat_minor": 2
}
